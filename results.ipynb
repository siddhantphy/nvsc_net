{
 "cells": [
  {
   "cell_type": "code",
   "execution_count": null,
   "metadata": {},
   "outputs": [
    {
     "ename": "",
     "evalue": "",
     "output_type": "error",
     "traceback": [
      "\u001b[1;31mRunning cells with 'Python 3.10.4 ('squid_nv')' requires ipykernel package.\n",
      "\u001b[1;31mRun the following command to install 'ipykernel' into the Python environment. \n",
      "\u001b[1;31mCommand: 'conda install -n squid_nv ipykernel --update-deps --force-reinstall'"
     ]
    }
   ],
   "source": [
    "# Local imports\n",
    "from basic_operations import *\n",
    "from q_programs import *\n",
    "from native_gates_and_parameters import *\n",
    "from network_model import *\n",
    "from plot import *"
   ]
  },
  {
   "cell_type": "code",
   "execution_count": null,
   "metadata": {},
   "outputs": [],
   "source": []
  }
 ],
 "metadata": {
  "kernelspec": {
   "display_name": "Python 3.10.4 ('two_node')",
   "language": "python",
   "name": "python3"
  },
  "language_info": {
   "name": "python",
   "version": "3.10.4"
  },
  "orig_nbformat": 4,
  "vscode": {
   "interpreter": {
    "hash": "f25eb21f0f3aaebb53830a3fa0764f7cdbd9bc3352bd5d6e5d4ec821ed1aeecb"
   }
  }
 },
 "nbformat": 4,
 "nbformat_minor": 2
}
